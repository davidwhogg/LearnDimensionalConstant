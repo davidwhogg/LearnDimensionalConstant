{
  "nbformat": 4,
  "nbformat_minor": 0,
  "metadata": {
    "colab": {
      "provenance": [],
      "include_colab_link": true
    },
    "kernelspec": {
      "name": "python3",
      "display_name": "Python 3"
    },
    "language_info": {
      "name": "python"
    }
  },
  "cells": [
    {
      "cell_type": "markdown",
      "metadata": {
        "id": "view-in-github",
        "colab_type": "text"
      },
      "source": [
        "<a href=\"https://colab.research.google.com/github/davidwhogg/LearnDimensionalConstant/blob/main/notebooks/learn_a_dimensional_constant.ipynb\" target=\"_parent\"><img src=\"https://colab.research.google.com/assets/colab-badge.svg\" alt=\"Open In Colab\"/></a>"
      ]
    },
    {
      "cell_type": "markdown",
      "source": [
        "# Learning dimensional constants"
      ],
      "metadata": {
        "id": "cIox_RvIyFis"
      }
    },
    {
      "cell_type": "code",
      "execution_count": null,
      "metadata": {
        "id": "z-tMsbwbyAeo"
      },
      "outputs": [],
      "source": [
        "!pip install smithnormalform\n",
        "from smithnormalform import snfproblem\n",
        "from smithnormalform import matrix as snfmatrix\n",
        "from smithnormalform import z as snfz\n",
        "import numpy as np\n",
        "import pylab as plt\n",
        "import itertools as it"
      ]
    },
    {
      "cell_type": "code",
      "source": [
        "rng = np.random.default_rng(17)"
      ],
      "metadata": {
        "id": "fMP6KQlHB_TN"
      },
      "execution_count": null,
      "outputs": []
    },
    {
      "cell_type": "code",
      "source": [
        "# define units-carrying object\n",
        "class quantity():\n",
        "    unit_names = [\"kg\", \"m\", \"s\", \"K\"]\n",
        "\n",
        "    def __init__(self, x, u):\n",
        "        self.x = x\n",
        "        self.u = np.array(u).astype(int)\n",
        "        assert len(self.u) == len(self.unit_names)\n",
        "\n",
        "    def unit_string(self):\n",
        "        foo = \"\"\n",
        "        for i, alpha in enumerate(self.u):\n",
        "            if alpha != 0:\n",
        "                foo += \"\\,\" + self.unit_names[i] + \"^{\" + str(alpha) + \"}\"\n",
        "        return foo\n",
        "\n",
        "    def __str__(self):\n",
        "        return \"$\" + str(self.x) + self.unit_string() + \"$\"\n",
        "\n",
        "    def __mul__(self, other):\n",
        "        return quantity(self.x * other.x, self.u + other.u)\n",
        "\n",
        "    def __truediv__(self, other):\n",
        "        return quantity(self.x / other.x, self.u - other.u)\n",
        "\n",
        "    def __pow__(self, b):\n",
        "        return quantity(self.x ** b, self.u * b)\n",
        "\n",
        "    def __add__(self, other):\n",
        "        assert self.u == other.u\n",
        "        return quantity(self.x + other.x, self.u)\n",
        "\n",
        "    def __sub__(self, other):\n",
        "        assert self.u == other.u\n",
        "        return quantity(self.x - other.x, self.u)\n",
        ""
      ],
      "metadata": {
        "id": "ovJuW786ym7D"
      },
      "execution_count": null,
      "outputs": []
    },
    {
      "cell_type": "code",
      "source": [
        "# define physical constants\n",
        "# examples:\n",
        "# temperature has units [0 0 0 1]\n",
        "# wavelength has units [0 1 0 0]\n",
        "c = quantity(299_792_458.0, [0, 1, -1, 0]) #speed of light\n",
        "kB = quantity(1.380649e-23, [1, 2, -2, -1]) #Boltzmann's constant\n",
        "h = quantity(6.62607015e-34, [1, 2, -1, 0]) #Planck's constant\n",
        "print(c, kB, h)\n",
        "print(h * c)\n",
        "print(c / kB)"
      ],
      "metadata": {
        "id": "gqVnoN3eyKrC"
      },
      "execution_count": null,
      "outputs": []
    },
    {
      "cell_type": "code",
      "source": [
        "# define God's truth (the true black body formula)\n",
        "def truth(lam, T):\n",
        "    return (quantity(2., [0, 0, 0, 0]) * h * c ** 2 / lam ** 5\n",
        "            / quantity(np.exp((h * c / (lam * kB * T)).x) - 1., [0, 0, 0, 0]))"
      ],
      "metadata": {
        "id": "N_vm70CvzoVI"
      },
      "execution_count": null,
      "outputs": []
    },
    {
      "cell_type": "code",
      "source": [
        "def noisify(ys):\n",
        "    return ys*(1+ 0.1* rng.normal(size=ys.shape))"
      ],
      "metadata": {
        "id": "3JCyxdLHBe5y"
      },
      "execution_count": null,
      "outputs": []
    },
    {
      "cell_type": "code",
      "source": [
        "# set up parameters for a training set\n",
        "lam = quantity(10. ** np.arange(-8, -4, 0.1), [0, 1, 0, 0]) #wavelengths"
      ],
      "metadata": {
        "id": "4hXr1zRk3BW5"
      },
      "execution_count": null,
      "outputs": []
    },
    {
      "cell_type": "code",
      "source": [
        "# make a training set\n",
        "# data and physical constants\n",
        "Ts = [300., 1000., 3000., 10000., 30000.] #temperatures\n",
        "Ts = [quantity(np.zeros_like(lam.x) + T, [0, 0, 0, 1]) for T in Ts]\n",
        "B_lams = [truth(lam, T) for T in Ts] #intensities\n",
        "ys = noisify(np.array([B.x for B in B_lams]).flatten())\n",
        "y_u = B_lams[0].u\n",
        "n = len(ys)\n",
        "xs = np.zeros((n, 5)) #values\n",
        "x_u = np.zeros((5, 4)).astype(int) #units\n",
        "xs[:, 0] = np.array([lam.x for B in B_lams]).flatten()\n",
        "x_u[0, :] = lam.u\n",
        "xs[:, 1] = np.array([T.x for T in Ts]).flatten()\n",
        "x_u[1, :] = Ts[0].u\n",
        "xs[:, 2] = c.x\n",
        "x_u[2, :] = c.u\n",
        "xs[:, 3] = kB.x\n",
        "x_u[3, :] = kB.u\n",
        "xs[:, 4] = h.x\n",
        "x_u[4, :] = h.u"
      ],
      "metadata": {
        "id": "YGMHbhF08dz6"
      },
      "execution_count": null,
      "outputs": []
    },
    {
      "cell_type": "code",
      "source": [
        "# make a test set\n",
        "Ts_test = [6000., 20000., 60000.]\n",
        "Ts_test = [quantity(np.zeros_like(lam.x) + T, [0, 0, 0, 1]) for T in Ts_test]\n",
        "B_lams_test = [truth(lam, T) for T in Ts_test]\n",
        "ys_test = noisify(np.array([B.x for B in B_lams_test]).flatten())\n",
        "n_test = len(ys_test)\n",
        "xs_test = np.zeros((n_test, 5))\n",
        "xs_test[:, 0] = np.array([lam.x for B in B_lams_test]).flatten()\n",
        "xs_test[:, 1] = np.array([T.x for T in Ts_test]).flatten()\n",
        "xs_test[:, 2] = c.x\n",
        "xs_test[:, 3] = kB.x\n",
        "xs_test[:, 4] = h.x"
      ],
      "metadata": {
        "id": "ht1pCSp4EpvI"
      },
      "execution_count": null,
      "outputs": []
    },
    {
      "cell_type": "code",
      "source": [
        "# cut on intensity <1e6\n",
        "y_min = 1e6\n",
        "i_train = ys > y_min\n",
        "xs = xs[i_train]\n",
        "ys = ys[i_train]\n",
        "i_test = ys_test > y_min\n",
        "xs_test = xs_test[i_test]\n",
        "ys_test = ys_test[i_test]"
      ],
      "metadata": {
        "id": "l-cVu_YTQg3E"
      },
      "execution_count": null,
      "outputs": []
    },
    {
      "cell_type": "code",
      "source": [
        "# what are the units of the labels and features?\n",
        "print(y_u)\n",
        "print(x_u)"
      ],
      "metadata": {
        "id": "r2WQZnlq9TLx"
      },
      "execution_count": null,
      "outputs": []
    },
    {
      "cell_type": "code",
      "source": [
        "# visualize the training set\n",
        "plt.scatter(xs[:, 0], ys, marker=\".\", c=xs[:, 1])\n",
        "plt.colorbar()\n",
        "plt.ylim(1.e6, 1.e18)\n",
        "plt.ylabel(\"intensity \" + truth(quantity(1.0, [0, 1, 0, 0]), Ts[0]).unit_string())\n",
        "plt.xlabel(\"wavelength (m)\")\n",
        "plt.loglog()"
      ],
      "metadata": {
        "id": "4_sbzrNN3d62"
      },
      "execution_count": null,
      "outputs": []
    },
    {
      "cell_type": "markdown",
      "source": [
        "Non-units-covariant regression using only wavelengths and temperatures as features\n",
        "\n",
        "Note: **currently the baseline regression does not work**"
      ],
      "metadata": {
        "id": "yeWzsb6aj_5b"
      }
    },
    {
      "cell_type": "code",
      "source": [
        "from sklearn.neural_network import MLPRegressor\n",
        "regr = MLPRegressor(hidden_layer_sizes=(20,20,20), learning_rate_init=1e-4, random_state=1, max_iter=20000).fit(np.log(xs[:,:2]), np.log(ys))"
      ],
      "metadata": {
        "id": "v1RKWndn5UJd"
      },
      "execution_count": null,
      "outputs": []
    },
    {
      "cell_type": "code",
      "source": [
        "ys_hat_baseline= np.exp(regr.predict(np.log(xs_test[:,:2])))"
      ],
      "metadata": {
        "id": "g4m8nzKTAyNq"
      },
      "execution_count": null,
      "outputs": []
    },
    {
      "cell_type": "code",
      "source": [
        "# visualize the test results\n",
        "plt.scatter(xs_test[:, 0], ys_test, marker=\".\", label=\"truth\", c=\"black\")\n",
        "plt.scatter(xs_test[:, 0], ys_hat_baseline, marker=\".\", label=\"predictions\", c=\"gray\")\n",
        "#plt.colorbar()\n",
        "#plt.ylim(1.e6, 1.e20)\n",
        "plt.ylabel(truth(quantity(1.0, [0, 1, 0, 0]), Ts[0]).unit_string())\n",
        "plt.loglog()\n",
        "\n",
        "rms_baseline = np.sqrt(np.nanmean((np.log(ys_test) - np.log(ys_hat_baseline))**2))\n",
        "print(\"rms_baseline\", rms_baseline)"
      ],
      "metadata": {
        "id": "Hq-pR1N6A_-3"
      },
      "execution_count": null,
      "outputs": []
    },
    {
      "cell_type": "markdown",
      "source": [
        "Units-covariant regression"
      ],
      "metadata": {
        "id": "rEn7tqQ2j0h5"
      }
    },
    {
      "cell_type": "code",
      "source": [
        "def integer_solve(A, b):\n",
        "    \"\"\"\n",
        "    Find all solutions to Ax=b where A, x, b are integer.\n",
        "\n",
        "    ## inputs:\n",
        "    - A - [n, m] integer matrix - n < m, please\n",
        "    - b - [n] integer vector\n",
        "\n",
        "    ## outputs:\n",
        "    - vv - [m] one integer vector solution to the problem Ax=b\n",
        "    - us - [k, m] set of k integer vector solutions to the problem Ax=0\n",
        "\n",
        "    ## bugs / issues:\n",
        "    - Might get weird when k <= 1.\n",
        "    - Might get weird if k > m - n.\n",
        "    - Depends EXTREMELY strongly on everything being integer.\n",
        "    - Uses smithnormalform package, which is poorly documented.\n",
        "    - Requires smithnormalform package to have been imported as follows:\n",
        "        !pip install smithnormalform\n",
        "        from smithnormalform import snfproblem\n",
        "        from smithnormalform import matrix as snfmatrix\n",
        "        from smithnormalform import z as snfz\n",
        "    \"\"\"\n",
        "    ## perform the packing into SNF Matrix format; HACK\n",
        "    n, m = A.shape\n",
        "    assert(m >= n)\n",
        "    assert(len(b) == n)\n",
        "    assert A.dtype is np.dtype(int)\n",
        "    assert b.dtype is np.dtype(int)\n",
        "    smat = snfmatrix.Matrix(n, m, [snfz.Z(int(a)) for a in A.flatten()])\n",
        "    ## calculate the Smith Normal Form\n",
        "    prob = snfproblem.SNFProblem(smat)\n",
        "    prob.computeSNF()\n",
        "    ## perform the unpacking from SNF Matrix form; HACK\n",
        "    SS = np.array([a.a for a in prob.S.elements]).reshape(n, n)\n",
        "    TT = np.array([a.a for a in prob.T.elements]).reshape(m, m)\n",
        "    JJ = np.array([a.a for a in prob.J.elements]).reshape(n, m)\n",
        "    ## Find a basis for the lattice of null vectors\n",
        "    us = None\n",
        "    zeros = np.sum(JJ ** 2, axis=0) == 0\n",
        "    us = (TT[:, zeros]).T\n",
        "    DD = SS @ b\n",
        "    v = np.zeros(m)\n",
        "    v[:n] = DD / np.diag(JJ)\n",
        "    vv = (TT @ v).astype(int)\n",
        "    return vv, us"
      ],
      "metadata": {
        "id": "LqvUISYmBI7t"
      },
      "execution_count": null,
      "outputs": []
    },
    {
      "cell_type": "code",
      "source": [
        "def create_dimensionless_features(vv, us, X, X_test):\n",
        "    exponents = np.vstack([np.zeros_like(vv), us]).T\n",
        "    features = np.exp(np.log(X)@exponents)\n",
        "    features_test = np.exp(np.log(X_test)@exponents)\n",
        "    return features, features_test"
      ],
      "metadata": {
        "id": "WvXdYsNBTwLA"
      },
      "execution_count": null,
      "outputs": []
    },
    {
      "cell_type": "code",
      "source": [
        "def create_dimensionless_labels(vv, X, Y):\n",
        "    return np.exp(np.log(Y) - np.log(X)@vv)\n",
        ""
      ],
      "metadata": {
        "id": "aGcsihgIUIBy"
      },
      "execution_count": null,
      "outputs": []
    },
    {
      "cell_type": "markdown",
      "source": [
        "If we use Planck's constant and make the problem fully dimensionless, all curves in the training set collapse into one curve."
      ],
      "metadata": {
        "id": "ifIe3BK6acYk"
      }
    },
    {
      "cell_type": "code",
      "source": [
        "vv, us = integer_solve(x_u.T, y_u)\n",
        "XX, XX_test = create_dimensionless_features(vv, us, xs, xs_test)\n",
        "YY = create_dimensionless_labels(vv, xs, ys)\n",
        "\n",
        "plt.scatter(XX[:, 1], YY, marker=\".\")\n",
        "plt.loglog()\n",
        "plt.ylim(1e-14, 1e2)\n",
        "plt.ylabel(\"dimensionless label\")\n",
        "plt.xlabel(\"dimensionless feature 1\")"
      ],
      "metadata": {
        "id": "KaeAPxCeY2aR"
      },
      "execution_count": null,
      "outputs": []
    },
    {
      "cell_type": "code",
      "source": [
        "def dimensionless_regression(X, Y, a_X, a_Y, X_test):\n",
        "    vv, us = integer_solve(a_X.T, a_Y)\n",
        "    XX, XX_test = create_dimensionless_features(vv, us, X, X_test)\n",
        "    YY = create_dimensionless_labels(vv, X, Y)\n",
        "    regr = MLPRegressor(hidden_layer_sizes=(20,20,20), learning_rate_init=1e-4, random_state=1, max_iter=20000).fit(np.log(XX), np.log(YY))\n",
        "    dimensionless_predictions = regr.predict(np.log(XX_test))\n",
        "    predictions = np.exp(dimensionless_predictions + np.log(X_test)@vv)\n",
        "    return predictions"
      ],
      "metadata": {
        "id": "4jjwk1PHTWMK"
      },
      "execution_count": null,
      "outputs": []
    },
    {
      "cell_type": "markdown",
      "source": [
        "Perform a units-covariant regression without Planck's constant:"
      ],
      "metadata": {
        "id": "LP6i2L8iTH2s"
      }
    },
    {
      "cell_type": "code",
      "source": [
        "vv, us = integer_solve(x_u[:-1,:].T, y_u) # :-1 removes Plack's constant from the features\n",
        "print(vv)\n",
        "print(us)\n",
        "#the outputs show that there is no dimensionless features, but there is an output with the correct dimensions"
      ],
      "metadata": {
        "id": "bkP8sYIHBs1h"
      },
      "execution_count": null,
      "outputs": []
    },
    {
      "cell_type": "code",
      "source": [
        "ys_hat_noplanck = dimensionless_regression(xs[:,:-1], ys, x_u[:-1,:], y_u, xs_test[:,:-1])\n",
        "plt.scatter(xs_test[:, 0], ys_test, marker=\".\",  alpha=.75, label=\"truth\")\n",
        "plt.scatter(xs_test[:, 0], ys_hat_noplanck, marker=\".\", alpha=.75, label=\"predictions\")\n",
        "#plt.ylim(1.e6, 1.e17)\n",
        "plt.loglog()\n",
        "plt.legend()\n",
        "plt.xlabel(\"wavelength\")\n",
        "plt.ylabel(\"intensity\")\n",
        "plt.title(\"This is pretty bad\")\n",
        "\n",
        "rms = np.sqrt(np.nanmean((np.log(ys_test) - np.log(ys_hat_noplanck))**2))\n",
        "print(\"rms\", rms)"
      ],
      "metadata": {
        "id": "HizMhmTxjBD3"
      },
      "execution_count": null,
      "outputs": []
    },
    {
      "cell_type": "markdown",
      "source": [
        "Perform a units-covariant regression with Planck's constant:"
      ],
      "metadata": {
        "id": "iDAqsnmbXI1n"
      }
    },
    {
      "cell_type": "code",
      "source": [
        "vv, us = integer_solve(x_u.T, y_u)\n",
        "print(vv)\n",
        "print(us)"
      ],
      "metadata": {
        "id": "fyDu9IsSXMGc"
      },
      "execution_count": null,
      "outputs": []
    },
    {
      "cell_type": "code",
      "source": [
        "ys_hat_planck = dimensionless_regression(xs, ys, x_u, y_u, xs_test)\n",
        "plt.scatter(xs_test[:, 0], ys_test, marker=\".\", alpha=.75, label=\"truth\")\n",
        "plt.scatter(xs_test[:, 0], ys_hat_planck, marker=\".\", alpha=.75, label=\"predictions\")\n",
        "rms = np.sqrt(np.nanmean((np.log(ys_test) - np.log(ys_hat_planck))**2))\n",
        "print(\"rms\", rms)\n",
        "#plt.ylim(1.e6, 1.e17)\n",
        "plt.loglog()\n",
        "plt.legend()\n",
        "plt.xlabel(\"wavelength\")\n",
        "plt.ylabel(\"intensity\")\n",
        "plt.title(\"This is pretty good\")"
      ],
      "metadata": {
        "id": "xwUNx6lNMlFq"
      },
      "execution_count": null,
      "outputs": []
    },
    {
      "cell_type": "code",
      "source": [
        "ys_hat_planck = dimensionless_regression(xs, ys, x_u, y_u, xs_test)\n",
        "plt.scatter(xs_test[:, 0], ys_test, marker=\".\", alpha=1, label=\"test labels\", c=\"black\")\n",
        "plt.scatter(xs_test[:, 0], ys_hat_noplanck, marker=\".\", alpha=.5, label=\"units equivariant without extra dimensional constant\", c=\"gray\")\n",
        "plt.scatter(xs_test[:, 0], ys_hat_planck, marker=\"o\", alpha=.5, label=\"units equivariant with extra dimensional constant\", c=\"gray\", Facecolors=None)\n",
        "plt.scatter(xs_test[:, 0], ys_hat_baseline, marker=\"x\", alpha=.5, label=\"standard MLP (no equivariance)\", c=\"gray\", Facecolors=\"green\" )\n",
        "rms = np.sqrt(np.nanmean((np.log(ys_test) - np.log(ys_hat_planck))**2))\n",
        "print(\"rms\", rms)\n",
        "#plt.ylim(1.e6, 1.e17)\n",
        "plt.loglog()\n",
        "plt.legend(loc='center', bbox_to_anchor=(0.5, 1.2))\n",
        "plt.xlabel(\"wavelength\")\n",
        "plt.ylabel(\"intensity\")\n",
        "#plt.title(\"This is pretty good\")\n",
        "plt.savefig(\"units.pdf\", bbox_inches='tight')"
      ],
      "metadata": {
        "id": "DLdW1aWhrjah"
      },
      "execution_count": null,
      "outputs": []
    },
    {
      "cell_type": "markdown",
      "source": [
        "We try lots of dimensional constants in place of Planck's constant. Which ones work?"
      ],
      "metadata": {
        "id": "2dYEkRhRkeQs"
      }
    },
    {
      "cell_type": "code",
      "source": [
        "#we are using brute force\n",
        "#all possible units of the constants we are searching\n",
        "try_us = list(it.product([-1,0,1], repeat=4))\n",
        "print(try_us[:5])"
      ],
      "metadata": {
        "id": "lFexeQ5_IadA"
      },
      "execution_count": null,
      "outputs": []
    },
    {
      "cell_type": "code",
      "source": [],
      "metadata": {
        "id": "QzTNNTPW2gRV"
      },
      "execution_count": null,
      "outputs": []
    },
    {
      "cell_type": "code",
      "source": [
        "#finds every possible dimensional constant that leads to a good regression\n",
        "\n",
        "for try_u in try_us:\n",
        "    xs_aux = xs.copy()\n",
        "    xs_test_aux = xs_test.copy()\n",
        "    xs_aux[:,-1] = 1.0\n",
        "    xs_test_aux[:,-1] = 1.0\n",
        "    x_u_aux = x_u.copy()\n",
        "    x_u_aux[-1] = try_u\n",
        "    vv, us = integer_solve(x_u_aux.T, y_u)\n",
        "    #print(vv)\n",
        "    #print(us)\n",
        "    assert len(us)>0\n",
        "    XX_aux, XX_aux_test = create_dimensionless_features(vv, us, xs_aux, xs_test_aux)\n",
        "    YY_aux = create_dimensionless_labels(vv, xs_aux, ys)\n",
        "    foo = np.nanmedian(XX_aux[:,1])\n",
        "    #finds the scaling to make the median of the dimensionless features unity\n",
        "    factor = foo**(1.0 / us[0][-1])\n",
        "    xs_aux[:,-1] = 1.0 / factor\n",
        "    xs_test_aux[:,-1] = 1.0 / factor\n",
        "    XX_aux, XX_aux_test = create_dimensionless_features(vv, us, xs_aux, xs_test_aux)\n",
        "    YY_aux = create_dimensionless_labels(vv, xs_aux, ys)\n",
        "    ys_hat = dimensionless_regression(xs_aux, ys, x_u_aux, y_u, xs_test_aux)\n",
        "    rms = np.sqrt(np.nanmean((np.log(ys_test) - np.log(ys_hat))**2))\n",
        "    if rms<rms_baseline:\n",
        "        print(xs_aux[0,-1], try_u, rms)\n",
        "        break\n",
        "    #assert False"
      ],
      "metadata": {
        "id": "Sszl9IOZJpfS"
      },
      "execution_count": null,
      "outputs": []
    },
    {
      "cell_type": "code",
      "source": [
        "#check this out: we get Planck's constat to within a factor of 2\n",
        "#it is this line: 3.5618249131350745e-34 (1, 2, -1, 0) 0.1753106257741744\n",
        "#todo: interpret the results of the above"
      ],
      "metadata": {
        "id": "vxI4Z-B806b7"
      },
      "execution_count": null,
      "outputs": []
    },
    {
      "cell_type": "code",
      "source": [
        "ys_hat_planck = ys_hat\n",
        "plt.scatter(xs_test[:, 0], ys_test, marker=\".\", alpha=1, label=\"test labels\", c=\"black\")\n",
        "plt.scatter(xs_test[:, 0], ys_hat_noplanck, marker=\".\", alpha=.5, label=\"units covariant without extra dimensional constant, RMSE=6.35\", c=\"gray\")\n",
        "plt.scatter(xs_test[:, 0], ys_hat_planck, marker=\"o\", alpha=.5, label=\"units covariant with extra dimensional constant, RMSE=0.39\", c=\"gray\", Facecolors=None)\n",
        "plt.scatter(xs_test[:, 0], ys_hat_baseline, marker=\"x\", alpha=.5, label=\"standard MLP (no covariance), RMSE=0.64\", c=\"gray\", Facecolors=\"green\" )\n",
        "rms = np.sqrt(np.nanmean((np.log(ys_test) - np.log(ys_hat_planck))**2))\n",
        "print(\"rms\", rms)\n",
        "#plt.ylim(1.e6, 1.e17)\n",
        "plt.loglog()\n",
        "plt.legend(loc='center', bbox_to_anchor=(0.5, 1.17))\n",
        "plt.xlabel(\"wavelength\")\n",
        "plt.ylabel(\"intensity\")\n",
        "#plt.title(\"This is pretty good\")\n",
        "plt.savefig(\"units.pdf\", bbox_inches='tight')"
      ],
      "metadata": {
        "id": "EjhVPUoL0uS2"
      },
      "execution_count": null,
      "outputs": []
    },
    {
      "cell_type": "code",
      "source": [],
      "metadata": {
        "id": "dxeLIRKrGIaT"
      },
      "execution_count": null,
      "outputs": []
    }
  ]
}